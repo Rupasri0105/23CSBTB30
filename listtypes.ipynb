{
  "nbformat": 4,
  "nbformat_minor": 0,
  "metadata": {
    "colab": {
      "provenance": [],
      "authorship_tag": "ABX9TyN8qEbrejygfVdI42mMEYsF",
      "include_colab_link": true
    },
    "kernelspec": {
      "name": "python3",
      "display_name": "Python 3"
    },
    "language_info": {
      "name": "python"
    }
  },
  "cells": [
    {
      "cell_type": "markdown",
      "metadata": {
        "id": "view-in-github",
        "colab_type": "text"
      },
      "source": [
        "<a href=\"https://colab.research.google.com/github/Rupasri0105/23CSBTB30/blob/main/listtypes.ipynb\" target=\"_parent\"><img src=\"https://colab.research.google.com/assets/colab-badge.svg\" alt=\"Open In Colab\"/></a>"
      ]
    },
    {
      "cell_type": "code",
      "execution_count": null,
      "metadata": {
        "id": "1IY3VgkOtaBI"
      },
      "outputs": [],
      "source": []
    },
    {
      "cell_type": "markdown",
      "source": [
        "mplement Basic Data Structures using Numpy, Pandas\n",
        "1. Lists\n",
        "2. Arrays\n",
        "3. Identify their type using type()\n",
        "4. Perform mathematical operations on these datasets created - multiplication, division,\n",
        "poweroff\n",
        "5. Combine text with Numpy fuction to generate a textual output - ”Addition of Two:\n",
        "array1 +array 2\n",
        "6. Implement np.sin(), log(), log2(), np.exp())"
      ],
      "metadata": {
        "id": "LmiUC8mft0_O"
      }
    },
    {
      "cell_type": "code",
      "source": [
        "lst={2:4,5:25,3:9,8:64,6:36}\n",
        "print(lst)\n",
        "print(type(lst))"
      ],
      "metadata": {
        "colab": {
          "base_uri": "https://localhost:8080/"
        },
        "id": "8Xe7lyiDt9o9",
        "outputId": "c8065c2e-ec59-4f2c-c380-9b1259a8aebd"
      },
      "execution_count": 1,
      "outputs": [
        {
          "output_type": "stream",
          "name": "stdout",
          "text": [
            "{2: 4, 5: 25, 3: 9, 8: 64, 6: 36}\n",
            "<class 'dict'>\n"
          ]
        }
      ]
    },
    {
      "cell_type": "code",
      "source": [
        "import numpy as np\n",
        "lst=(2,4,6,7,8)\n",
        "print(lst)\n",
        "print(type(lst))"
      ],
      "metadata": {
        "colab": {
          "base_uri": "https://localhost:8080/"
        },
        "id": "16Hm8RFZvMmb",
        "outputId": "dbc9d15b-347d-4143-9231-3e86034b9089"
      },
      "execution_count": 2,
      "outputs": [
        {
          "output_type": "stream",
          "name": "stdout",
          "text": [
            "(2, 4, 6, 7, 8)\n",
            "<class 'tuple'>\n"
          ]
        }
      ]
    },
    {
      "cell_type": "code",
      "source": [
        "lst=[4,6,7,8,9]\n",
        "print(lst)\n",
        "print(type(lst))"
      ],
      "metadata": {
        "colab": {
          "base_uri": "https://localhost:8080/"
        },
        "id": "mMnBLAyHvhn6",
        "outputId": "83a528f2-6bcd-4528-ebdd-c574a0760351"
      },
      "execution_count": 3,
      "outputs": [
        {
          "output_type": "stream",
          "name": "stdout",
          "text": [
            "[4, 6, 7, 8, 9]\n",
            "<class 'list'>\n"
          ]
        }
      ]
    },
    {
      "cell_type": "code",
      "source": [
        "lst={1:\"Apple\",2:\"Banana\",3:\"Orange\"}\n",
        "print(lst)\n",
        "print(type(lst))"
      ],
      "metadata": {
        "colab": {
          "base_uri": "https://localhost:8080/"
        },
        "id": "ttZxO0HivyIS",
        "outputId": "cd32a5a8-bbf0-4c21-f01b-ca7ce7a8d06d"
      },
      "execution_count": 4,
      "outputs": [
        {
          "output_type": "stream",
          "name": "stdout",
          "text": [
            "{1: 'Apple', 2: 'Banana', 3: 'Orange'}\n",
            "<class 'dict'>\n"
          ]
        }
      ]
    },
    {
      "cell_type": "code",
      "source": [
        "lst=\"welcome to AIML lab\"\n",
        "print(lst)\n",
        "print(type(lst))"
      ],
      "metadata": {
        "colab": {
          "base_uri": "https://localhost:8080/"
        },
        "id": "ZQj_crB-wJbi",
        "outputId": "2364e74d-4589-48b4-a9f1-13d3e3d1d291"
      },
      "execution_count": 5,
      "outputs": [
        {
          "output_type": "stream",
          "name": "stdout",
          "text": [
            "welcome to AIML lab\n",
            "<class 'str'>\n"
          ]
        }
      ]
    },
    {
      "cell_type": "code",
      "source": [
        "lst=3.4\n",
        "print(lst)\n",
        "print(type(lst))"
      ],
      "metadata": {
        "colab": {
          "base_uri": "https://localhost:8080/"
        },
        "id": "KXwh3pOLwe_d",
        "outputId": "09f19d81-8398-48af-9369-80d519da90d4"
      },
      "execution_count": 6,
      "outputs": [
        {
          "output_type": "stream",
          "name": "stdout",
          "text": [
            "3.4\n",
            "<class 'float'>\n"
          ]
        }
      ]
    },
    {
      "cell_type": "code",
      "source": [
        "lst=2j+6\n",
        "print(lst)\n",
        "print(type(lst))"
      ],
      "metadata": {
        "colab": {
          "base_uri": "https://localhost:8080/"
        },
        "id": "BKzXABvmwtOC",
        "outputId": "8bfcb786-4f7a-44d2-f22a-c1fc3ba13713"
      },
      "execution_count": 7,
      "outputs": [
        {
          "output_type": "stream",
          "name": "stdout",
          "text": [
            "(6+2j)\n",
            "<class 'complex'>\n"
          ]
        }
      ]
    }
  ]
}