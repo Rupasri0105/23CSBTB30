{
  "nbformat": 4,
  "nbformat_minor": 0,
  "metadata": {
    "colab": {
      "provenance": [],
      "authorship_tag": "ABX9TyOcWacwjkukE5IeSym1MNaU",
      "include_colab_link": true
    },
    "kernelspec": {
      "name": "python3",
      "display_name": "Python 3"
    },
    "language_info": {
      "name": "python"
    }
  },
  "cells": [
    {
      "cell_type": "markdown",
      "metadata": {
        "id": "view-in-github",
        "colab_type": "text"
      },
      "source": [
        "<a href=\"https://colab.research.google.com/github/Rupasri0105/23CSBTB30/blob/main/arraysort.ipynb\" target=\"_parent\"><img src=\"https://colab.research.google.com/assets/colab-badge.svg\" alt=\"Open In Colab\"/></a>"
      ]
    },
    {
      "cell_type": "code",
      "execution_count": 1,
      "metadata": {
        "colab": {
          "base_uri": "https://localhost:8080/"
        },
        "id": "aA6Nxh2Y3zBu",
        "outputId": "ced64f99-056c-4774-cacd-25033fd72128"
      },
      "outputs": [
        {
          "output_type": "stream",
          "name": "stdout",
          "text": [
            "[0 1 2 3]\n"
          ]
        }
      ],
      "source": [
        "import numpy as np\n",
        "arr=np.array([3,2,0,1])\n",
        "print(np.sort(arr))"
      ]
    },
    {
      "cell_type": "code",
      "source": [
        "import pandas as pd\n",
        "sr = pd.Series([150,50,30,20,40,100])\n",
        "drink = ['Coca Cola','Sprite','Coke','Fanta','Dew','ThumbsUp']\n",
        "sr.index = drink\n",
        "print(sr)"
      ],
      "metadata": {
        "colab": {
          "base_uri": "https://localhost:8080/"
        },
        "id": "VIaz9A-g4PBG",
        "outputId": "4bf0b767-b89d-496a-d854-0e07734f7651"
      },
      "execution_count": 3,
      "outputs": [
        {
          "output_type": "stream",
          "name": "stdout",
          "text": [
            "Coca Cola    150\n",
            "Sprite        50\n",
            "Coke          30\n",
            "Fanta         20\n",
            "Dew           40\n",
            "ThumbsUp     100\n",
            "dtype: int64\n"
          ]
        }
      ]
    },
    {
      "cell_type": "code",
      "source": [],
      "metadata": {
        "id": "JMjTNSQt5LdR"
      },
      "execution_count": null,
      "outputs": []
    }
  ]
}