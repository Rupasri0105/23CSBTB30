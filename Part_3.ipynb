{
  "nbformat": 4,
  "nbformat_minor": 0,
  "metadata": {
    "colab": {
      "provenance": [],
      "authorship_tag": "ABX9TyM6zKx8rNNawcHuaw5x67s7",
      "include_colab_link": true
    },
    "kernelspec": {
      "name": "python3",
      "display_name": "Python 3"
    },
    "language_info": {
      "name": "python"
    }
  },
  "cells": [
    {
      "cell_type": "markdown",
      "metadata": {
        "id": "view-in-github",
        "colab_type": "text"
      },
      "source": [
        "<a href=\"https://colab.research.google.com/github/Rupasri0105/23CSBTB30/blob/main/Part_3.ipynb\" target=\"_parent\"><img src=\"https://colab.research.google.com/assets/colab-badge.svg\" alt=\"Open In Colab\"/></a>"
      ]
    },
    {
      "cell_type": "markdown",
      "source": [
        "# **Part 3 – Access Data from Various Data Sources using builtin Function of Numpy, Pandas[CO3]**"
      ],
      "metadata": {
        "id": "hSWNw4GzCJX8"
      }
    },
    {
      "cell_type": "code",
      "execution_count": 3,
      "metadata": {
        "colab": {
          "base_uri": "https://localhost:8080/"
        },
        "id": "Nxfn9v6a3pOm",
        "outputId": "c8bc24a6-84a1-43d2-defc-fd40e4bee413"
      },
      "outputs": [
        {
          "output_type": "stream",
          "name": "stdout",
          "text": [
            "     SID      NAME  AGE  COURSE     CONTACT\n",
            "0   1918      RUPA   19  B Tech  8688784288\n",
            "1   1543  HRUTHIKA   19  B Tech  8328015334\n",
            "2   1886   SPURTHI   18  B Tech  8806399206\n",
            "3   1560   ANURATH   19  B Tech  8885299732\n",
            "4   1038    PRANAV   18  B Tech  9676249100\n",
            "5   1163     VINNY   19  B Tech  7670891946\n",
            "6   1919   KETHANA   19  B Tech  8074682885\n",
            "7   1653    ANJALI   18  B Tech  9347673150\n",
            "8   1123   SATWIKA   19  B Tech  8328018900\n",
            "9   1342  VAISHALI   18  B Tech  9492440264\n",
            "10  1206  NISHITHA   19  B Tech  9492910523\n",
            "11  1678  NANDHINI   19  B Tech  9490377674\n",
            "12  1802      TEJU   19  B Tech  9365789231\n",
            "13  1928    JYOTHI   20  B Tech  8345786219\n",
            "14  1578   NIKITHA   18  B Tech  9060315029\n",
            "15  1880   SUNISHA   20  B Tech  8094367218\n",
            "16  1765    SWATHI   19  B Tech  8797853265\n",
            "17  1534    SWAPNA   20  B Tech  9345908641\n",
            "18  1890   KAVITHA   19  B Tech  8365478901\n"
          ]
        }
      ],
      "source": [
        "import pandas as pd\n",
        "data=pd.read_excel(\"EXCEL WORKBOOK.xlsx\")\n",
        "print(data)"
      ]
    },
    {
      "cell_type": "code",
      "source": [
        "import pandas as pd\n",
        "data=pd.read_csv(\"/content/EXCEL WORKBOOK.csv\")\n",
        "print(data)"
      ],
      "metadata": {
        "colab": {
          "base_uri": "https://localhost:8080/"
        },
        "id": "tMUHZ5Ww34NG",
        "outputId": "2b24ea8a-471f-436d-ba52-1cb99d8f5b11"
      },
      "execution_count": 5,
      "outputs": [
        {
          "output_type": "stream",
          "name": "stdout",
          "text": [
            "     SID      NAME  AGE  COURSE     CONTACT\n",
            "0   1918      RUPA   19  B Tech  8688784288\n",
            "1   1543  HRUTHIKA   19  B Tech  8328015334\n",
            "2   1886   SPURTHI   18  B Tech  8806399206\n",
            "3   1560   ANURATH   19  B Tech  8885299732\n",
            "4   1038    PRANAV   18  B Tech  9676249100\n",
            "5   1163     VINNY   19  B Tech  7670891946\n",
            "6   1919   KETHANA   19  B Tech  8074682885\n",
            "7   1653    ANJALI   18  B Tech  9347673150\n",
            "8   1123   SATWIKA   19  B Tech  8328018900\n",
            "9   1342  VAISHALI   18  B Tech  9492440264\n",
            "10  1206  NISHITHA   19  B Tech  9492910523\n",
            "11  1678  NANDHINI   19  B Tech  9490377674\n",
            "12  1802      TEJU   19  B Tech  9365789231\n",
            "13  1928    JYOTHI   20  B Tech  8345786219\n",
            "14  1578   NIKITHA   18  B Tech  9060315029\n",
            "15  1880   SUNISHA   20  B Tech  8094367218\n",
            "16  1765    SWATHI   19  B Tech  8797853265\n",
            "17  1534    SWAPNA   20  B Tech  9345908641\n",
            "18  1890   KAVITHA   19  B Tech  8365478901\n"
          ]
        }
      ]
    },
    {
      "cell_type": "code",
      "source": [
        "import pandas as pd\n",
        "data=pd.read_table(\"/content/EXCEL WORKBOOK.txt\")\n",
        "print(data)"
      ],
      "metadata": {
        "colab": {
          "base_uri": "https://localhost:8080/"
        },
        "id": "Uog94pcK5NLk",
        "outputId": "753fbca2-a20c-4f87-d0ad-128a03ad562e"
      },
      "execution_count": 6,
      "outputs": [
        {
          "output_type": "stream",
          "name": "stdout",
          "text": [
            "     SID      NAME  AGE  COURSE     CONTACT\n",
            "0   1918      RUPA   19  B Tech  8688784288\n",
            "1   1543  HRUTHIKA   19  B Tech  8328015334\n",
            "2   1886   SPURTHI   18  B Tech  8806399206\n",
            "3   1560   ANURATH   19  B Tech  8885299732\n",
            "4   1038    PRANAV   18  B Tech  9676249100\n",
            "5   1163     VINNY   19  B Tech  7670891946\n",
            "6   1919   KETHANA   19  B Tech  8074682885\n",
            "7   1653    ANJALI   18  B Tech  9347673150\n",
            "8   1123   SATWIKA   19  B Tech  8328018900\n",
            "9   1342  VAISHALI   18  B Tech  9492440264\n",
            "10  1206  NISHITHA   19  B Tech  9492910523\n",
            "11  1678  NANDHINI   19  B Tech  9490377674\n",
            "12  1802      TEJU   19  B Tech  9365789231\n",
            "13  1928    JYOTHI   20  B Tech  8345786219\n",
            "14  1578   NIKITHA   18  B Tech  9060315029\n",
            "15  1880   SUNISHA   20  B Tech  8094367218\n",
            "16  1765    SWATHI   19  B Tech  8797853265\n",
            "17  1534    SWAPNA   20  B Tech  9345908641\n",
            "18  1890   KAVITHA   19  B Tech  8365478901\n"
          ]
        }
      ]
    },
    {
      "cell_type": "code",
      "source": [
        "import pandas as pd\n",
        "data=pd.read_csv(\"heart.csv\")\n",
        "print(data)"
      ],
      "metadata": {
        "colab": {
          "base_uri": "https://localhost:8080/"
        },
        "id": "CZ-QG9O995uP",
        "outputId": "e665753c-e20e-4962-896e-6c3e0cf54450"
      },
      "execution_count": 7,
      "outputs": [
        {
          "output_type": "stream",
          "name": "stdout",
          "text": [
            "      age  sex  cp  trestbps  chol  fbs  restecg  thalach  exang  oldpeak  \\\n",
            "0      52    1   0       125   212    0        1      168      0      1.0   \n",
            "1      53    1   0       140   203    1        0      155      1      3.1   \n",
            "2      70    1   0       145   174    0        1      125      1      2.6   \n",
            "3      61    1   0       148   203    0        1      161      0      0.0   \n",
            "4      62    0   0       138   294    1        1      106      0      1.9   \n",
            "...   ...  ...  ..       ...   ...  ...      ...      ...    ...      ...   \n",
            "1020   59    1   1       140   221    0        1      164      1      0.0   \n",
            "1021   60    1   0       125   258    0        0      141      1      2.8   \n",
            "1022   47    1   0       110   275    0        0      118      1      1.0   \n",
            "1023   50    0   0       110   254    0        0      159      0      0.0   \n",
            "1024   54    1   0       120   188    0        1      113      0      1.4   \n",
            "\n",
            "      slope  ca  thal  target  \n",
            "0         2   2     3       0  \n",
            "1         0   0     3       0  \n",
            "2         0   0     3       0  \n",
            "3         2   1     3       0  \n",
            "4         1   3     2       0  \n",
            "...     ...  ..   ...     ...  \n",
            "1020      2   0     2       1  \n",
            "1021      1   1     3       0  \n",
            "1022      1   1     2       0  \n",
            "1023      2   0     2       1  \n",
            "1024      1   1     3       0  \n",
            "\n",
            "[1025 rows x 14 columns]\n"
          ]
        }
      ]
    },
    {
      "cell_type": "code",
      "source": [
        "import pandas as pd\n",
        "data=pd.read_csv(\"games_dataset.csv\")\n",
        "print(data)"
      ],
      "metadata": {
        "colab": {
          "base_uri": "https://localhost:8080/"
        },
        "id": "BnEFP7SXBTHI",
        "outputId": "a6a3b15d-00e7-4087-82f1-3867c7611188"
      },
      "execution_count": 8,
      "outputs": [
        {
          "output_type": "stream",
          "name": "stdout",
          "text": [
            "                                    Game Name       Genre         Platform  \\\n",
            "0                   Sekiro: Shadows Die Twice      Sports  Nintendo Switch   \n",
            "1                                     Control      Puzzle  Nintendo Switch   \n",
            "2                                    Among Us    Strategy  Nintendo Switch   \n",
            "3                Call of Duty: Modern Warfare     Stealth      PlayStation   \n",
            "4                           League of Legends  Simulation               PC   \n",
            "...                                       ...         ...              ...   \n",
            "4995  The Legend of Zelda: Breath of the Wild      Sports               PC   \n",
            "4996                Assassin's Creed Valhalla     Stealth           Mobile   \n",
            "4997             Fall Guys: Ultimate Knockout      Sports           Mobile   \n",
            "4998                            Borderlands 3  Platformer             Xbox   \n",
            "4999         Counter-Strike: Global Offensive      Action      PlayStation   \n",
            "\n",
            "      Release Year  User Rating  \n",
            "0             2014     9.654719  \n",
            "1             2000     3.457386  \n",
            "2             2007     5.367622  \n",
            "3             2005     1.240325  \n",
            "4             2021     3.535476  \n",
            "...            ...          ...  \n",
            "4995          2013     6.352838  \n",
            "4996          2020     1.852730  \n",
            "4997          2021     5.268067  \n",
            "4998          2018     4.558510  \n",
            "4999          2022     3.443231  \n",
            "\n",
            "[5000 rows x 5 columns]\n"
          ]
        }
      ]
    },
    {
      "cell_type": "code",
      "source": [],
      "metadata": {
        "id": "kFEz1UZxBXCz"
      },
      "execution_count": null,
      "outputs": []
    }
  ]
}