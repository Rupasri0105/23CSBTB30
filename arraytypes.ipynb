{
  "nbformat": 4,
  "nbformat_minor": 0,
  "metadata": {
    "colab": {
      "provenance": [],
      "authorship_tag": "ABX9TyOJhTtfyEKzV7/w+eORah8n",
      "include_colab_link": true
    },
    "kernelspec": {
      "name": "python3",
      "display_name": "Python 3"
    },
    "language_info": {
      "name": "python"
    }
  },
  "cells": [
    {
      "cell_type": "markdown",
      "metadata": {
        "id": "view-in-github",
        "colab_type": "text"
      },
      "source": [
        "<a href=\"https://colab.research.google.com/github/Rupasri0105/23CSBTB30/blob/main/arraytypes.ipynb\" target=\"_parent\"><img src=\"https://colab.research.google.com/assets/colab-badge.svg\" alt=\"Open In Colab\"/></a>"
      ]
    },
    {
      "cell_type": "code",
      "execution_count": null,
      "metadata": {
        "id": "axkBa7ZT2szC"
      },
      "outputs": [],
      "source": []
    },
    {
      "cell_type": "code",
      "source": [
        "import numpy as np\n",
        "arry=np.array([2,5,7,3,8])\n",
        "print(arry)\n",
        "print(type(arry))"
      ],
      "metadata": {
        "colab": {
          "base_uri": "https://localhost:8080/"
        },
        "id": "tPUtsykx2wwv",
        "outputId": "932ccea1-1242-4644-ed06-a006fac5f62a"
      },
      "execution_count": 1,
      "outputs": [
        {
          "output_type": "stream",
          "name": "stdout",
          "text": [
            "[2 5 7 3 8]\n",
            "<class 'numpy.ndarray'>\n"
          ]
        }
      ]
    },
    {
      "cell_type": "code",
      "source": [
        "array = np.array([3, 4, 5, 6, 7])\n",
        "print(\"NumPy Array:\", array)\n",
        "print(\"Type:\", type(array))\n",
        "print(\"First element:\", array[0])\n",
        "print(\"Last element:\", array[-1])\n",
        "print(\"Sum of elements:\", np.sum(array))\n",
        "print(\"Mean of elements:\", np.mean(array))"
      ],
      "metadata": {
        "colab": {
          "base_uri": "https://localhost:8080/"
        },
        "id": "b_6hgtOE4rQF",
        "outputId": "67cd4928-f36d-43d1-ef60-0e9d14bf8e47"
      },
      "execution_count": 2,
      "outputs": [
        {
          "output_type": "stream",
          "name": "stdout",
          "text": [
            "NumPy Array: [3 4 5 6 7]\n",
            "Type: <class 'numpy.ndarray'>\n",
            "First element: 3\n",
            "Last element: 7\n",
            "Sum of elements: 25\n",
            "Mean of elements: 5.0\n"
          ]
        }
      ]
    },
    {
      "cell_type": "code",
      "source": [
        "array = np.array([4, 8, 2, 3, 5])\n",
        "print(\"Array:\", array)\n",
        "print(\"Type of array:\", type(array))\n",
        "print(\"First element:\", array[0])\n",
        "print(\"Last element:\", array[-1])"
      ],
      "metadata": {
        "colab": {
          "base_uri": "https://localhost:8080/"
        },
        "id": "hWNllqNZ_j2X",
        "outputId": "03e4cf1f-4788-4f76-e70c-26a1332505ac"
      },
      "execution_count": 3,
      "outputs": [
        {
          "output_type": "stream",
          "name": "stdout",
          "text": [
            "Array: [4 8 2 3 5]\n",
            "Type of array: <class 'numpy.ndarray'>\n",
            "First element: 4\n",
            "Last element: 5\n"
          ]
        }
      ]
    },
    {
      "cell_type": "code",
      "source": [
        "array_1d = np.array([1, 2, 5, 7, 4])\n",
        "print(\"1D Array:\", array_1d)\n",
        "print(\"Type of 1D Array:\", type(array_1d))\n",
        "print(\"Sum of elements:\", np.sum(array_1d))\n",
        "print(\"Mean of elements:\", np.mean(array_1d))\n"
      ],
      "metadata": {
        "colab": {
          "base_uri": "https://localhost:8080/"
        },
        "id": "tqfRHVS1_1TX",
        "outputId": "a0ecfbc6-4202-44d2-8c80-1c2259c77573"
      },
      "execution_count": 5,
      "outputs": [
        {
          "output_type": "stream",
          "name": "stdout",
          "text": [
            "1D Array: [1 2 5 7 4]\n",
            "Type of 1D Array: <class 'numpy.ndarray'>\n",
            "Sum of elements: 19\n",
            "Mean of elements: 3.8\n"
          ]
        }
      ]
    },
    {
      "cell_type": "code",
      "source": [
        "array_2d = np.array([[1, 6, 3], [2, 4, 6], [7, 3, 9]])\n",
        "print(\"2D Array:\\n\", array_2d)\n",
        "print(\"Type of 2D Array:\", type(array_2d))\n",
        "print(\"Sum of elements in 2D array:\", np.sum(array_2d))\n",
        "print(\"Transpose of 2D array:\\n\", np.transpose(array_2d))\n"
      ],
      "metadata": {
        "colab": {
          "base_uri": "https://localhost:8080/"
        },
        "id": "LK_qRxskAM9X",
        "outputId": "be009f38-592d-4b4c-bb1e-d3865e2949c3"
      },
      "execution_count": 6,
      "outputs": [
        {
          "output_type": "stream",
          "name": "stdout",
          "text": [
            "2D Array:\n",
            " [[1 6 3]\n",
            " [2 4 6]\n",
            " [7 3 9]]\n",
            "Type of 2D Array: <class 'numpy.ndarray'>\n",
            "Sum of elements in 2D array: 41\n",
            "Transpose of 2D array:\n",
            " [[1 2 7]\n",
            " [6 4 3]\n",
            " [3 6 9]]\n"
          ]
        }
      ]
    },
    {
      "cell_type": "code",
      "source": [
        "array_3d = np.array([[[1, 4, 3], [4, 5, 3]],[[7, 5, 9], [12, 14, 16]]])\n",
        "print(\"3D Array:\\n\", array_3d)\n",
        "print(\"Type of 3D Array:\", type(array_3d))\n",
        "print(\"Sum of elements in 3D array:\", np.sum(array_3d))\n",
        "print(\"Shape of 3D array:\", array_3d.shape)\n"
      ],
      "metadata": {
        "colab": {
          "base_uri": "https://localhost:8080/"
        },
        "id": "hfmNHtc7AcBv",
        "outputId": "5bb2ef62-7092-45bd-84f7-2ac1abd86667"
      },
      "execution_count": 7,
      "outputs": [
        {
          "output_type": "stream",
          "name": "stdout",
          "text": [
            "3D Array:\n",
            " [[[ 1  4  3]\n",
            "  [ 4  5  3]]\n",
            "\n",
            " [[ 7  5  9]\n",
            "  [12 14 16]]]\n",
            "Type of 3D Array: <class 'numpy.ndarray'>\n",
            "Sum of elements in 3D array: 83\n",
            "Shape of 3D array: (2, 2, 3)\n"
          ]
        }
      ]
    },
    {
      "cell_type": "code",
      "source": [
        "# Creating a 4D array\n",
        "array_4d = np.array([[[[1, 4], [2, 4]], [[5, 7], [7, 9]]],\n",
        "                     [[[8, 10], [11, 13]], [[12, 14], [15, 17]]]])\n",
        "print(\"4D Array:\\n\", array_4d)\n",
        "print(\"Type of 4D Array:\", type(array_4d))\n",
        "print(\"Sum of elements in 4D array:\", np.sum(array_4d))\n",
        "print(\"Shape of 4D array:\", array_4d.shape)\n"
      ],
      "metadata": {
        "colab": {
          "base_uri": "https://localhost:8080/"
        },
        "id": "f1tXDIwYAsdP",
        "outputId": "b5357ab6-ddb8-4934-dea4-19dd21b099fe"
      },
      "execution_count": 8,
      "outputs": [
        {
          "output_type": "stream",
          "name": "stdout",
          "text": [
            "4D Array:\n",
            " [[[[ 1  4]\n",
            "   [ 2  4]]\n",
            "\n",
            "  [[ 5  7]\n",
            "   [ 7  9]]]\n",
            "\n",
            "\n",
            " [[[ 8 10]\n",
            "   [11 13]]\n",
            "\n",
            "  [[12 14]\n",
            "   [15 17]]]]\n",
            "Type of 4D Array: <class 'numpy.ndarray'>\n",
            "Sum of elements in 4D array: 139\n",
            "Shape of 4D array: (2, 2, 2, 2)\n"
          ]
        }
      ]
    },
    {
      "cell_type": "code",
      "source": [
        "array_a = np.array([2, 4, 6])\n",
        "array_b = np.array([3, 5, 7])\n",
        "array_add = array_a + array_b\n",
        "print(\"\\nAddition of Two Arrays:\", array_add)\n",
        "array_mul = array_a * array_b\n",
        "print(\"Multiplication of Two Arrays:\", array_mul)\n",
        "array_div = array_b / array_a\n",
        "print(\"Division of Two Arrays:\", array_div)\n",
        "array_pow = np.power(array_a, 2)\n",
        "print(\"Element-wise Power (array_a^2):\", array_pow)\n"
      ],
      "metadata": {
        "colab": {
          "base_uri": "https://localhost:8080/"
        },
        "id": "HbLyF-QTA_FX",
        "outputId": "9b533202-5931-49e0-f237-e610c936bdcc"
      },
      "execution_count": 9,
      "outputs": [
        {
          "output_type": "stream",
          "name": "stdout",
          "text": [
            "\n",
            "Addition of Two Arrays: [ 5  9 13]\n",
            "Multiplication of Two Arrays: [ 6 20 42]\n",
            "Division of Two Arrays: [1.5        1.25       1.16666667]\n",
            "Element-wise Power (array_a^2): [ 4 16 36]\n"
          ]
        }
      ]
    },
    {
      "cell_type": "code",
      "source": [
        "sin_values = np.sin(array_a)\n",
        "print(\"\\nSin of array_a:\", sin_values)\n",
        "log_values = np.log(array_b)\n",
        "print(\"Log of array_b:\", log_values)\n",
        "log2_values = np.log2(array_b)\n",
        "print(\"Log base-2 of array_b:\", log2_values)\n",
        "exp_values = np.exp(array_a)\n",
        "print(\"Exponential of array_a:\", exp_values)\n"
      ],
      "metadata": {
        "colab": {
          "base_uri": "https://localhost:8080/"
        },
        "id": "n1VUqfhiBNlm",
        "outputId": "5c0449c1-4bbe-40f6-8074-6959bf396adc"
      },
      "execution_count": 10,
      "outputs": [
        {
          "output_type": "stream",
          "name": "stdout",
          "text": [
            "\n",
            "Sin of array_a: [ 0.90929743 -0.7568025  -0.2794155 ]\n",
            "Log of array_b: [1.09861229 1.60943791 1.94591015]\n",
            "Log base-2 of array_b: [1.5849625  2.32192809 2.80735492]\n",
            "Exponential of array_a: [  7.3890561   54.59815003 403.42879349]\n"
          ]
        }
      ]
    }
  ]
}